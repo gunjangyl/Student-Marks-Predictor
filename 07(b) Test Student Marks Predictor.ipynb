{
 "cells": [
  {
   "cell_type": "code",
   "execution_count": 1,
   "id": "4ac2b106-909e-4bad-855c-534e61afc265",
   "metadata": {},
   "outputs": [],
   "source": [
    "import joblib"
   ]
  },
  {
   "cell_type": "code",
   "execution_count": 2,
   "id": "372e8756-f554-4e6e-90a3-c50d6b619102",
   "metadata": {},
   "outputs": [],
   "source": [
    "model=joblib.load(\"smp.pkl\")"
   ]
  },
  {
   "cell_type": "code",
   "execution_count": null,
   "id": "a999b003-d2b4-4f44-8726-243a6200eaa3",
   "metadata": {},
   "outputs": [],
   "source": [
    "study_hours=float(input(\"Enter Study Hours:\"))"
   ]
  },
  {
   "cell_type": "code",
   "execution_count": null,
   "id": "30cca98f-79b9-4711-ac2d-8a6ae406b967",
   "metadata": {},
   "outputs": [],
   "source": [
    "model.predict([[study_hours]])[0][0].round(2)"
   ]
  },
  {
   "cell_type": "code",
   "execution_count": null,
   "id": "04e98f3a-cd9a-48cf-9de7-d6c41d401011",
   "metadata": {},
   "outputs": [],
   "source": []
  }
 ],
 "metadata": {
  "kernelspec": {
   "display_name": "Python 3 (ipykernel)",
   "language": "python",
   "name": "python3"
  },
  "language_info": {
   "codemirror_mode": {
    "name": "ipython",
    "version": 3
   },
   "file_extension": ".py",
   "mimetype": "text/x-python",
   "name": "python",
   "nbconvert_exporter": "python",
   "pygments_lexer": "ipython3",
   "version": "3.9.13"
  }
 },
 "nbformat": 4,
 "nbformat_minor": 5
}
